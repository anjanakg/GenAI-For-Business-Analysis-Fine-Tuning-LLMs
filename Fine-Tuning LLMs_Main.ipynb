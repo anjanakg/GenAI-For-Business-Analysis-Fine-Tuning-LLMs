{
  "cells": [
    {
      "cell_type": "markdown",
      "metadata": {
        "id": "2AqPte8bet51"
      },
      "source": [
        "# Welcome To The Notebook"
      ]
    },
    {
      "cell_type": "markdown",
      "metadata": {
        "id": "1Rp80dTGpsDD"
      },
      "source": [
        "### Task 1 - Set up the project environment"
      ]
    },
    {
      "cell_type": "code",
      "execution_count": 1,
      "metadata": {
        "id": "lx4wV2MIUJ8A"
      },
      "outputs": [],
      "source": [
        "#!pip install openai==1.7.2 python-dotenv"
      ]
    },
    {
      "cell_type": "markdown",
      "metadata": {
        "id": "qypdUNULptjB"
      },
      "source": [
        "Importing modules"
      ]
    },
    {
      "cell_type": "code",
      "execution_count": 1,
      "metadata": {
        "id": "YFmEp0r5T2eI"
      },
      "outputs": [
        {
          "name": "stdout",
          "output_type": "stream",
          "text": [
            "Modules are imported.\n"
          ]
        }
      ],
      "source": [
        "import pandas as pd\n",
        "import os, time\n",
        "from openai import OpenAI\n",
        "from dotenv import load_dotenv\n",
        "import json\n",
        "import matplotlib.pyplot as plt\n",
        "\n",
        "print(\"Modules are imported.\")"
      ]
    },
    {
      "cell_type": "markdown",
      "metadata": {
        "id": "XfVAcV_XqDja"
      },
      "source": [
        "Setting up the OpenAI API:\n",
        "\n",
        "* Prepare a .env file to store the OpenAI API key.\n",
        "* Uploading the .env file to our colab environment\n",
        "* Load the API key and setup the API"
      ]
    },
    {
      "cell_type": "code",
      "execution_count": 2,
      "metadata": {
        "id": "rbXC4QM4qCBe"
      },
      "outputs": [],
      "source": [
        "load_dotenv('apikey.env.txt')\n",
        "APIKEY = os.getenv('APIKEY')"
      ]
    },
    {
      "cell_type": "markdown",
      "metadata": {
        "id": "rWxipGQIpxH8"
      },
      "source": [
        "Creating OpenAI Client"
      ]
    },
    {
      "cell_type": "code",
      "execution_count": 3,
      "metadata": {
        "id": "nHj-RaA5p0WE"
      },
      "outputs": [],
      "source": [
        "client = OpenAI(\n",
        "    api_key = APIKEY,\n",
        ")"
      ]
    },
    {
      "cell_type": "markdown",
      "metadata": {
        "id": "0r2XnfwnqTCK"
      },
      "source": [
        "### Task 2 - Prepare the training data"
      ]
    },
    {
      "cell_type": "markdown",
      "metadata": {
        "id": "-_Alc-CyuHmE"
      },
      "source": [
        "Loading the provided `Customer Complaints.csv`\n",
        "\n"
      ]
    },
    {
      "cell_type": "code",
      "execution_count": 4,
      "metadata": {
        "id": "jan2OKk5qW1J"
      },
      "outputs": [
        {
          "data": {
            "text/html": [
              "<div>\n",
              "<style scoped>\n",
              "    .dataframe tbody tr th:only-of-type {\n",
              "        vertical-align: middle;\n",
              "    }\n",
              "\n",
              "    .dataframe tbody tr th {\n",
              "        vertical-align: top;\n",
              "    }\n",
              "\n",
              "    .dataframe thead th {\n",
              "        text-align: right;\n",
              "    }\n",
              "</style>\n",
              "<table border=\"1\" class=\"dataframe\">\n",
              "  <thead>\n",
              "    <tr style=\"text-align: right;\">\n",
              "      <th></th>\n",
              "      <th>Complaints</th>\n",
              "      <th>Details</th>\n",
              "    </tr>\n",
              "  </thead>\n",
              "  <tbody>\n",
              "    <tr>\n",
              "      <th>0</th>\n",
              "      <td>Unreliable internet! Sick of constant outages...</td>\n",
              "      <td>{\"Topic\": \"Internet\", \"Problem\": \"Unreliable s...</td>\n",
              "    </tr>\n",
              "    <tr>\n",
              "      <th>1</th>\n",
              "      <td>TV signal keeps dropping during crucial momen...</td>\n",
              "      <td>{\"Topic\": \"TV\", \"Problem\": \"Signal dropout\", \"...</td>\n",
              "    </tr>\n",
              "    <tr>\n",
              "      <th>2</th>\n",
              "      <td>Phone line always crackling! Can't hear a thi...</td>\n",
              "      <td>{\"Topic\": \"Phone\", \"Problem\": \"Crackling line\"...</td>\n",
              "    </tr>\n",
              "    <tr>\n",
              "      <th>3</th>\n",
              "      <td>Ridiculous prices for such terrible service! ...</td>\n",
              "      <td>{\"Topic\": \"Billing\", \"Problem\": \"Overcharged\",...</td>\n",
              "    </tr>\n",
              "    <tr>\n",
              "      <th>4</th>\n",
              "      <td>Internet speed slower than a snail! Can't str...</td>\n",
              "      <td>{\"Topic\": \"Internet\", \"Problem\": \"Slow speed\",...</td>\n",
              "    </tr>\n",
              "    <tr>\n",
              "      <th>...</th>\n",
              "      <td>...</td>\n",
              "      <td>...</td>\n",
              "    </tr>\n",
              "    <tr>\n",
              "      <th>62</th>\n",
              "      <td>Poor call quality during international calls! ...</td>\n",
              "      <td>{\"Topic\": \"Phone\", \"Problem\": \"Poor call quali...</td>\n",
              "    </tr>\n",
              "    <tr>\n",
              "      <th>63</th>\n",
              "      <td>Incorrect charges on my bill every month! Unre...</td>\n",
              "      <td>{\"Topic\": \"Billing\", \"Problem\": \"Incorrect cha...</td>\n",
              "    </tr>\n",
              "    <tr>\n",
              "      <th>64</th>\n",
              "      <td>This service is terrible! Can't believe I'm pa...</td>\n",
              "      <td>{\"Topic\": \"PulseNet General\", \"Problem\": \"Gene...</td>\n",
              "    </tr>\n",
              "    <tr>\n",
              "      <th>65</th>\n",
              "      <td>This product is a complete waste of money! Dis...</td>\n",
              "      <td>{\"Topic\": \"PulseNet General\", \"Problem\": \"Gene...</td>\n",
              "    </tr>\n",
              "    <tr>\n",
              "      <th>66</th>\n",
              "      <td>I am utterly fed up with this!</td>\n",
              "      <td>{\"Topic\": \"PulseNet General\", \"Problem\": \"Gene...</td>\n",
              "    </tr>\n",
              "  </tbody>\n",
              "</table>\n",
              "<p>67 rows × 2 columns</p>\n",
              "</div>"
            ],
            "text/plain": [
              "                                           Complaints  \\\n",
              "0    Unreliable internet! Sick of constant outages...   \n",
              "1    TV signal keeps dropping during crucial momen...   \n",
              "2    Phone line always crackling! Can't hear a thi...   \n",
              "3    Ridiculous prices for such terrible service! ...   \n",
              "4    Internet speed slower than a snail! Can't str...   \n",
              "..                                                ...   \n",
              "62  Poor call quality during international calls! ...   \n",
              "63  Incorrect charges on my bill every month! Unre...   \n",
              "64  This service is terrible! Can't believe I'm pa...   \n",
              "65  This product is a complete waste of money! Dis...   \n",
              "66                     I am utterly fed up with this!   \n",
              "\n",
              "                                              Details  \n",
              "0   {\"Topic\": \"Internet\", \"Problem\": \"Unreliable s...  \n",
              "1   {\"Topic\": \"TV\", \"Problem\": \"Signal dropout\", \"...  \n",
              "2   {\"Topic\": \"Phone\", \"Problem\": \"Crackling line\"...  \n",
              "3   {\"Topic\": \"Billing\", \"Problem\": \"Overcharged\",...  \n",
              "4   {\"Topic\": \"Internet\", \"Problem\": \"Slow speed\",...  \n",
              "..                                                ...  \n",
              "62  {\"Topic\": \"Phone\", \"Problem\": \"Poor call quali...  \n",
              "63  {\"Topic\": \"Billing\", \"Problem\": \"Incorrect cha...  \n",
              "64  {\"Topic\": \"PulseNet General\", \"Problem\": \"Gene...  \n",
              "65  {\"Topic\": \"PulseNet General\", \"Problem\": \"Gene...  \n",
              "66  {\"Topic\": \"PulseNet General\", \"Problem\": \"Gene...  \n",
              "\n",
              "[67 rows x 2 columns]"
            ]
          },
          "execution_count": 4,
          "metadata": {},
          "output_type": "execute_result"
        }
      ],
      "source": [
        "training_data = pd.read_csv(\"Customer Complaints.csv\")\n",
        "training_data"
      ]
    },
    {
      "cell_type": "markdown",
      "metadata": {
        "id": "uIK863G-qvMN"
      },
      "source": [
        "**Converting the Complaints records to json**\n",
        "\n",
        "To be able to use the data for the fine-tuning purpose, we first need to convert each row of the dataframe into the following format:\n",
        "\n",
        "<pre>\n",
        "<code>\n",
        "{\n",
        "  <span style=\"color: blue;\">\"messages\"</span>: [\n",
        "    {\n",
        "      <span style=\"color: blue;\">\"role\"</span>: <span style=\"color: red;\">\"system\"</span>,\n",
        "      <span style=\"color: blue;\">\"content\"</span>: \"<span style=\"color: green;\">Providing context about the user's prompt.\n",
        "                  It may include information about the task,\n",
        "                  instructions, or background details relevant\n",
        "                  to the conversation.</span>\"\n",
        "    },\n",
        "    {\n",
        "      <span style=\"color: blue;\">\"role\"</span>: <span style=\"color: red;\">\"user\"</span>,\n",
        "      <span style=\"color: blue;\">\"content\"</span>: \"<span style=\"color: green;\">the prompt or input provided by the user,\n",
        "                  which typically initiates the conversation with the assistant.</span>\"\n",
        "    },\n",
        "    {\n",
        "      <span style=\"color: blue;\">\"role\"</span>: <span style=\"color: red;\">\"assistant\"</span>,\n",
        "      <span style=\"color: blue;\">\"content\"</span>: \"<span style=\"color: green;\">The desired response or output generated by\n",
        "                  the assistant in response to the user's prompt.</span>\"\n",
        "    }\n",
        "  ]\n",
        "}\n",
        "</code>\n",
        "</pre>\n",
        "\n",
        "Let's get started!"
      ]
    },
    {
      "cell_type": "markdown",
      "metadata": {
        "id": "fWVCfuvRjdXa"
      },
      "source": [
        "Let's define a method that get's a row of the dataframe and convert it into the json format"
      ]
    },
    {
      "cell_type": "code",
      "execution_count": 5,
      "metadata": {
        "id": "-tHnvRamq5NK"
      },
      "outputs": [],
      "source": [
        "def save_as_json(row):\n",
        "\n",
        "  system_content = \"\"\"\n",
        "      Given a customer complaint text, extract and return the following information in json (dict) format:\n",
        "      - Topic: The product/department that the customer has a complaint about.\n",
        "      - Problem: A two or three-word description of what exactly the problem is.\n",
        "      - Customer_Dissatisfaction_Index: is a number between 0 and 100 showing\n",
        "             how angry the customer is about the problem.\n",
        "  \"\"\"\n",
        "\n",
        "  formatted_data = {\n",
        "        \"messages\": [\n",
        "            {\"role\": \"system\", \"content\": system_content},\n",
        "            {\"role\": \"user\", \"content\": row.Complaints},\n",
        "            {\"role\": \"assistant\", \"content\": row.Details}\n",
        "        ]\n",
        "      }\n",
        "\n",
        "  with open(\"training_data.json\", \"a\") as json_file:\n",
        "        json.dump(formatted_data, json_file)\n",
        "        json_file.write(\"\\n\")"
      ]
    },
    {
      "cell_type": "markdown",
      "metadata": {
        "id": "K3haPgzI-ClF"
      },
      "source": [
        "Now let's use of this method to generate the `training_data.json`"
      ]
    },
    {
      "cell_type": "code",
      "execution_count": 6,
      "metadata": {
        "id": "LNOMxwSX8dE4"
      },
      "outputs": [],
      "source": [
        "for index, raw in training_data.iterrows():\n",
        "    save_as_json(raw)"
      ]
    },
    {
      "cell_type": "markdown",
      "metadata": {
        "id": "Jo9HFdW0jput"
      },
      "source": [
        "### Task 3 - Fine-tune GPT 3.5 based on our training data"
      ]
    },
    {
      "cell_type": "markdown",
      "metadata": {
        "id": "h4TMhzSNj4hH"
      },
      "source": [
        "Let's import the json file we prepared as our training data"
      ]
    },
    {
      "cell_type": "code",
      "execution_count": 7,
      "metadata": {
        "id": "ExJ2cRU5-XtH"
      },
      "outputs": [
        {
          "data": {
            "text/plain": [
              "FileObject(id='file-ciKotWzGQb2jslQJdiGCoC7y', bytes=93578, created_at=1714661369, filename='training_data.json', object='file', purpose='fine-tune', status='processed', status_details=None)"
            ]
          },
          "execution_count": 7,
          "metadata": {},
          "output_type": "execute_result"
        }
      ],
      "source": [
        "data_file = client.files.create(\n",
        "    file = open('training_data.json', 'rb'),\n",
        "    purpose = 'fine-tune',\n",
        ")\n",
        "data_file\n"
      ]
    },
    {
      "cell_type": "markdown",
      "metadata": {
        "id": "TiBcO3I0kIU5"
      },
      "source": [
        "Create the Fine Tuning Job"
      ]
    },
    {
      "cell_type": "code",
      "execution_count": 8,
      "metadata": {
        "id": "BXJB348zkMSx"
      },
      "outputs": [
        {
          "data": {
            "text/plain": [
              "FineTuningJob(id='ftjob-dccoKdvjzWx2Rgi4Zq9aRJV6', created_at=1714661377, error=Error(code=None, message=None, param=None), fine_tuned_model=None, finished_at=None, hyperparameters=Hyperparameters(n_epochs='auto', batch_size='auto', learning_rate_multiplier='auto'), model='gpt-3.5-turbo-0125', object='fine_tuning.job', organization_id='org-BUkbPcfBtiSt1ZHYTgb703OH', result_files=[], status='validating_files', trained_tokens=None, training_file='file-ciKotWzGQb2jslQJdiGCoC7y', validation_file=None, user_provided_suffix=None, seed=109624739, estimated_finish=None, integrations=[])"
            ]
          },
          "execution_count": 8,
          "metadata": {},
          "output_type": "execute_result"
        }
      ],
      "source": [
        "fine_tuning_job = client.fine_tuning.jobs.create(\n",
        "    training_file = data_file.id,\n",
        "    model = 'gpt-3.5-turbo',\n",
        "    hyperparameters = {\n",
        "        \"n_epochs\": 'auto'\n",
        "    }\n",
        ")\n",
        "fine_tuning_job"
      ]
    },
    {
      "cell_type": "markdown",
      "metadata": {
        "id": "u7XWcO_7kzY6"
      },
      "source": [
        "Let's retrieve the state of the fine-tune"
      ]
    },
    {
      "cell_type": "code",
      "execution_count": 9,
      "metadata": {
        "id": "hpbHjWu3AS4k"
      },
      "outputs": [
        {
          "name": "stdout",
          "output_type": "stream",
          "text": [
            "validating_files\n",
            "validating_files\n",
            "validating_files\n",
            "validating_files\n",
            "validating_files\n",
            "validating_files\n",
            "validating_files\n",
            "validating_files\n",
            "validating_files\n",
            "validating_files\n",
            "validating_files\n",
            "validating_files\n",
            "running\n",
            "running\n",
            "running\n",
            "running\n",
            "running\n",
            "running\n",
            "running\n",
            "running\n",
            "running\n",
            "running\n",
            "running\n",
            "running\n",
            "running\n",
            "running\n",
            "running\n",
            "running\n",
            "running\n",
            "running\n",
            "running\n",
            "running\n",
            "running\n",
            "running\n",
            "running\n",
            "running\n",
            "running\n",
            "running\n",
            "running\n",
            "running\n",
            "running\n",
            "running\n",
            "running\n",
            "running\n",
            "running\n",
            "running\n",
            "running\n",
            "running\n",
            "running\n",
            "running\n",
            "running\n",
            "running\n",
            "running\n",
            "running\n",
            "running\n",
            "running\n",
            "running\n",
            "running\n",
            "running\n",
            "running\n",
            "running\n",
            "running\n",
            "running\n",
            "running\n",
            "running\n",
            "running\n",
            "running\n",
            "running\n",
            "running\n",
            "running\n",
            "running\n",
            "running\n",
            "running\n",
            "running\n",
            "running\n",
            "running\n",
            "running\n",
            "running\n",
            "running\n",
            "running\n",
            "running\n",
            "running\n",
            "running\n",
            "running\n",
            "running\n",
            "running\n",
            "running\n",
            "running\n",
            "running\n",
            "running\n",
            "running\n",
            "running\n",
            "running\n",
            "running\n",
            "running\n",
            "running\n",
            "running\n",
            "running\n",
            "running\n",
            "running\n",
            "running\n",
            "running\n",
            "running\n",
            "running\n",
            "running\n",
            "running\n",
            "running\n",
            "running\n",
            "running\n",
            "running\n",
            "running\n",
            "running\n",
            "running\n",
            "running\n",
            "running\n",
            "running\n",
            "running\n",
            "running\n",
            "running\n",
            "running\n",
            "running\n",
            "running\n",
            "running\n",
            "running\n",
            "running\n",
            "running\n",
            "running\n",
            "running\n",
            "running\n",
            "running\n",
            "running\n",
            "running\n",
            "running\n",
            "running\n",
            "running\n",
            "running\n",
            "running\n",
            "running\n",
            "running\n",
            "running\n",
            "running\n",
            "running\n",
            "running\n",
            "running\n",
            "running\n",
            "running\n",
            "running\n",
            "running\n",
            "running\n",
            "running\n",
            "running\n",
            "running\n",
            "running\n",
            "running\n",
            "running\n",
            "running\n",
            "running\n",
            "running\n",
            "running\n",
            "running\n",
            "running\n",
            "running\n",
            "running\n",
            "running\n",
            "running\n",
            "running\n",
            "running\n",
            "running\n",
            "running\n",
            "running\n",
            "running\n",
            "running\n",
            "running\n",
            "running\n",
            "running\n",
            "running\n",
            "running\n",
            "running\n",
            "running\n",
            "running\n",
            "running\n",
            "running\n",
            "running\n",
            "running\n",
            "running\n",
            "running\n",
            "running\n",
            "running\n",
            "running\n",
            "running\n",
            "running\n",
            "running\n",
            "running\n",
            "running\n",
            "running\n",
            "running\n",
            "running\n",
            "running\n",
            "running\n",
            "running\n",
            "running\n",
            "running\n",
            "running\n",
            "running\n",
            "running\n",
            "running\n",
            "running\n",
            "running\n",
            "running\n",
            "running\n",
            "running\n",
            "running\n",
            "running\n",
            "running\n",
            "running\n",
            "running\n",
            "running\n",
            "running\n",
            "running\n",
            "running\n",
            "running\n",
            "running\n",
            "running\n",
            "running\n",
            "running\n",
            "running\n",
            "running\n",
            "running\n",
            "running\n",
            "running\n",
            "running\n",
            "running\n",
            "running\n",
            "running\n",
            "running\n",
            "running\n",
            "running\n",
            "running\n",
            "running\n",
            "running\n",
            "running\n",
            "running\n",
            "running\n",
            "running\n",
            "running\n",
            "running\n",
            "running\n",
            "running\n",
            "running\n",
            "running\n",
            "running\n",
            "running\n",
            "running\n",
            "running\n",
            "running\n",
            "running\n",
            "running\n",
            "running\n",
            "running\n",
            "running\n",
            "running\n",
            "running\n",
            "running\n",
            "running\n",
            "running\n",
            "running\n",
            "running\n",
            "running\n",
            "running\n",
            "running\n",
            "running\n",
            "running\n",
            "running\n",
            "running\n",
            "running\n",
            "running\n",
            "running\n",
            "running\n",
            "running\n",
            "running\n",
            "running\n",
            "running\n",
            "running\n",
            "running\n",
            "running\n",
            "running\n",
            "running\n",
            "running\n",
            "running\n",
            "running\n",
            "running\n",
            "running\n",
            "running\n",
            "running\n",
            "running\n",
            "running\n",
            "running\n",
            "running\n",
            "running\n",
            "running\n",
            "running\n",
            "running\n",
            "running\n",
            "running\n",
            "running\n",
            "running\n",
            "running\n",
            "running\n",
            "running\n",
            "running\n",
            "running\n",
            "running\n",
            "running\n",
            "running\n",
            "running\n",
            "running\n",
            "running\n",
            "running\n",
            "running\n",
            "running\n",
            "running\n",
            "running\n",
            "running\n",
            "running\n",
            "running\n",
            "running\n",
            "running\n",
            "running\n",
            "running\n",
            "running\n",
            "running\n",
            "running\n",
            "running\n",
            "running\n",
            "running\n",
            "running\n",
            "running\n",
            "running\n",
            "running\n",
            "running\n",
            "running\n",
            "running\n",
            "running\n",
            "running\n",
            "running\n",
            "running\n",
            "running\n",
            "running\n",
            "running\n",
            "running\n",
            "running\n",
            "running\n",
            "running\n"
          ]
        },
        {
          "ename": "KeyboardInterrupt",
          "evalue": "",
          "output_type": "error",
          "traceback": [
            "\u001b[1;31m---------------------------------------------------------------------------\u001b[0m",
            "\u001b[1;31mKeyboardInterrupt\u001b[0m                         Traceback (most recent call last)",
            "Cell \u001b[1;32mIn[9], line 2\u001b[0m\n\u001b[0;32m      1\u001b[0m \u001b[38;5;28;01mwhile\u001b[39;00m \u001b[38;5;28;01mTrue\u001b[39;00m:\n\u001b[1;32m----> 2\u001b[0m     \u001b[43mtime\u001b[49m\u001b[38;5;241;43m.\u001b[39;49m\u001b[43msleep\u001b[49m\u001b[43m(\u001b[49m\u001b[38;5;241;43m2\u001b[39;49m\u001b[43m)\u001b[49m\n\u001b[0;32m      3\u001b[0m     retrieved_job \u001b[38;5;241m=\u001b[39m client\u001b[38;5;241m.\u001b[39mfine_tuning\u001b[38;5;241m.\u001b[39mjobs\u001b[38;5;241m.\u001b[39mretrieve(fine_tuning_job\u001b[38;5;241m.\u001b[39mid)\n\u001b[0;32m      4\u001b[0m     status \u001b[38;5;241m=\u001b[39m retrieved_job\u001b[38;5;241m.\u001b[39mstatus\n",
            "\u001b[1;31mKeyboardInterrupt\u001b[0m: "
          ]
        }
      ],
      "source": [
        "while True:\n",
        "    time.sleep(2)\n",
        "    retrieved_job = client.fine_tuning.jobs.retrieve(fine_tuning_job.id)\n",
        "    status = retrieved_job.status\n",
        "    print(status)\n",
        "\n",
        "    if(status == \"succeeded\"):\n",
        "        print(\"The job is done!\")\n",
        "        break"
      ]
    },
    {
      "cell_type": "markdown",
      "metadata": {
        "id": "4XB-sFc3kO4A"
      },
      "source": [
        "### Task 4 - Evaluate model"
      ]
    },
    {
      "cell_type": "markdown",
      "metadata": {
        "id": "p_3bNsW3k_eR"
      },
      "source": [
        "Let's retrieve the event messages to check out the learning process of our fine-tuning job."
      ]
    },
    {
      "cell_type": "code",
      "execution_count": 34,
      "metadata": {
        "id": "O2bif68aIEGJ"
      },
      "outputs": [
        {
          "name": "stdout",
          "output_type": "stream",
          "text": [
            "The job has successfully completed\n",
            "New fine-tuned model created: ft:gpt-3.5-turbo-0125:personal::9Fpki9vB\n",
            "Checkpoint created at step 134 with Snapshot ID: ft:gpt-3.5-turbo-0125:personal::9Fpkhu3Y:ckpt-step-134\n",
            "Checkpoint created at step 67 with Snapshot ID: ft:gpt-3.5-turbo-0125:personal::9FpkhBmg:ckpt-step-67\n",
            "Step 201/201: training loss=0.03\n",
            "Step 200/201: training loss=0.05\n",
            "Step 199/201: training loss=0.02\n",
            "Step 198/201: training loss=0.13\n",
            "Step 197/201: training loss=0.05\n",
            "Step 196/201: training loss=0.04\n",
            "Step 195/201: training loss=0.11\n",
            "Step 194/201: training loss=0.05\n",
            "Step 193/201: training loss=0.08\n",
            "Step 192/201: training loss=0.00\n",
            "Step 191/201: training loss=0.04\n",
            "Step 190/201: training loss=0.03\n",
            "Step 189/201: training loss=0.07\n",
            "Step 188/201: training loss=0.05\n",
            "Step 187/201: training loss=0.02\n",
            "Step 186/201: training loss=0.07\n",
            "Step 185/201: training loss=0.07\n",
            "Step 184/201: training loss=0.25\n",
            "Step 183/201: training loss=0.03\n",
            "Step 182/201: training loss=0.05\n",
            "Step 181/201: training loss=0.02\n",
            "Step 180/201: training loss=0.06\n",
            "Step 179/201: training loss=0.04\n",
            "Step 178/201: training loss=0.00\n",
            "Step 177/201: training loss=0.12\n",
            "Step 176/201: training loss=0.28\n",
            "Step 175/201: training loss=0.03\n",
            "Step 174/201: training loss=0.03\n",
            "Step 173/201: training loss=0.00\n",
            "Step 172/201: training loss=0.04\n",
            "Step 171/201: training loss=0.05\n",
            "Step 170/201: training loss=0.05\n",
            "Step 169/201: training loss=0.04\n",
            "Step 168/201: training loss=0.03\n",
            "Step 167/201: training loss=0.00\n",
            "Step 166/201: training loss=0.04\n",
            "Step 165/201: training loss=0.04\n",
            "Step 164/201: training loss=0.03\n",
            "Step 163/201: training loss=0.04\n",
            "Step 162/201: training loss=0.04\n",
            "Step 161/201: training loss=0.05\n",
            "Step 160/201: training loss=0.38\n",
            "Step 159/201: training loss=0.14\n",
            "Step 158/201: training loss=0.04\n",
            "Step 157/201: training loss=0.00\n",
            "Step 156/201: training loss=0.16\n",
            "Step 155/201: training loss=0.26\n",
            "Step 154/201: training loss=0.07\n",
            "Step 153/201: training loss=0.05\n",
            "Step 152/201: training loss=0.00\n",
            "Step 151/201: training loss=0.21\n",
            "Step 150/201: training loss=0.07\n",
            "Step 149/201: training loss=0.04\n",
            "Step 148/201: training loss=0.02\n",
            "Step 147/201: training loss=0.03\n",
            "Step 146/201: training loss=0.16\n",
            "Step 145/201: training loss=0.04\n",
            "Step 144/201: training loss=0.12\n",
            "Step 143/201: training loss=0.00\n",
            "Step 142/201: training loss=0.06\n",
            "Step 141/201: training loss=0.06\n",
            "Step 140/201: training loss=0.12\n",
            "Step 139/201: training loss=0.05\n",
            "Step 138/201: training loss=0.00\n",
            "Step 137/201: training loss=0.00\n",
            "Step 136/201: training loss=0.05\n",
            "Step 135/201: training loss=0.17\n",
            "Step 134/201: training loss=0.00\n",
            "Step 133/201: training loss=0.08\n",
            "Step 132/201: training loss=0.06\n",
            "Step 131/201: training loss=0.11\n",
            "Step 130/201: training loss=0.00\n",
            "Step 129/201: training loss=0.04\n",
            "Step 128/201: training loss=0.10\n",
            "Step 127/201: training loss=0.00\n",
            "Step 126/201: training loss=0.17\n",
            "Step 125/201: training loss=0.12\n",
            "Step 124/201: training loss=0.12\n",
            "Step 123/201: training loss=0.10\n",
            "Step 122/201: training loss=0.10\n",
            "Step 121/201: training loss=0.27\n",
            "Step 120/201: training loss=0.08\n",
            "Step 119/201: training loss=0.07\n",
            "Step 118/201: training loss=0.00\n",
            "Step 117/201: training loss=0.17\n",
            "Step 116/201: training loss=0.04\n",
            "Step 115/201: training loss=0.23\n",
            "Step 114/201: training loss=0.06\n",
            "Step 113/201: training loss=0.00\n",
            "Step 112/201: training loss=0.04\n",
            "Step 111/201: training loss=0.25\n",
            "Step 110/201: training loss=0.03\n",
            "Step 109/201: training loss=0.07\n",
            "Step 108/201: training loss=0.33\n",
            "Step 107/201: training loss=0.18\n",
            "Step 106/201: training loss=0.20\n"
          ]
        }
      ],
      "source": [
        "events = list(client.fine_tuning.jobs.list_events(fine_tuning_job_id = retrieved_job.id, limit = 100).data)\n",
        "\n",
        "for e in events:\n",
        "    print(e.message)"
      ]
    },
    {
      "cell_type": "markdown",
      "metadata": {
        "id": "Pe3jUJJjyeO1"
      },
      "source": [
        "Let's extract the training loss in each learning step"
      ]
    },
    {
      "cell_type": "code",
      "execution_count": 35,
      "metadata": {
        "id": "oqhDoVBNzW_w"
      },
      "outputs": [
        {
          "name": "stdout",
          "output_type": "stream",
          "text": [
            "[201, 200, 199, 198, 197, 196, 195, 194, 193, 192, 191, 190, 189, 188, 187, 186, 185, 184, 183, 182, 181, 180, 179, 178, 177, 176, 175, 174, 173, 172, 171, 170, 169, 168, 167, 166, 165, 164, 163, 162, 161, 160, 159, 158, 157, 156, 155, 154, 153, 152, 151, 150, 149, 148, 147, 146, 145, 144, 143, 142, 141, 140, 139, 138, 137, 136, 135, 134, 133, 132, 131, 130, 129, 128, 127, 126, 125, 124, 123, 122, 121, 120, 119, 118, 117, 116, 115, 114, 113, 112, 111, 110, 109, 108, 107, 106]\n",
            "[0.02523833140730858, 0.04621879756450653, 0.018692322075366974, 0.1298821121454239, 0.04605056717991829, 0.039173271507024765, 0.10559329390525818, 0.05121803283691406, 0.08286894112825394, 3.6027695387019776e-06, 0.03925264626741409, 0.02577880583703518, 0.06566150486469269, 0.048377495259046555, 0.02403366006910801, 0.06815938651561737, 0.07231345027685165, 0.24898765981197357, 0.025853969156742096, 0.053181443363428116, 0.02231742814183235, 0.06217942759394646, 0.0359480194747448, 0.00035314206616021693, 0.11956992000341415, 0.28194499015808105, 0.02947763353586197, 0.028556982055306435, 5.510118171514478e-06, 0.040235452353954315, 0.045487307012081146, 0.05319470539689064, 0.042229462414979935, 0.030008452013134956, 7.700036803726107e-06, 0.036464009433984756, 0.03944409638643265, 0.029524002224206924, 0.04249756038188934, 0.039231546223163605, 0.05041396990418434, 0.38276031613349915, 0.13594406843185425, 0.041772034019231796, 1.2856942703365348e-05, 0.16187626123428345, 0.2616104781627655, 0.07086068391799927, 0.0504881776869297, 3.0023080398677848e-05, 0.2082204520702362, 0.07454101741313934, 0.03591610863804817, 0.019306330010294914, 0.03346237912774086, 0.15606804192066193, 0.044116515666246414, 0.12050967663526535, 0.00010193718480877578, 0.062348540872335434, 0.05847526714205742, 0.12209461629390717, 0.046540603041648865, 0.00024018464318942279, 0.00028461881447583437, 0.050731126219034195, 0.1660991758108139, 0.0005637981230393052, 0.08131241053342819, 0.05880317836999893, 0.11352165043354034, 0.0007941634394228458, 0.03996511548757553, 0.09798035025596619, 0.0011910332832485437, 0.1667305827140808, 0.1236223503947258, 0.12333767116069794, 0.10194309055805206, 0.09741821140050888, 0.274001806974411, 0.0842510536313057, 0.06766656786203384, 0.0013461642665788531, 0.1702505499124527, 0.038535527884960175, 0.23294712603092194, 0.0649276003241539, 0.0017269982490688562, 0.0354156494140625, 0.25244268774986267, 0.032434817403554916, 0.06744392216205597, 0.33020710945129395, 0.1755046844482422, 0.19675312936306]\n"
          ]
        }
      ],
      "source": [
        "steps = []\n",
        "train_loss = []\n",
        "for e in events:\n",
        "    if(e.data):\n",
        "        steps.append(e.data['step'])\n",
        "        train_loss.append(e.data['train_loss'])\n",
        "print(steps)\n",
        "print(train_loss)"
      ]
    },
    {
      "cell_type": "markdown",
      "metadata": {
        "id": "iiiJIUuq2W4D"
      },
      "source": [
        "Use a line chart to visualize the train_loss in each step"
      ]
    },
    {
      "cell_type": "code",
      "execution_count": 36,
      "metadata": {
        "id": "EMRvEd-F2bLO"
      },
      "outputs": [
        {
          "data": {
            "text/plain": [
              "[<matplotlib.lines.Line2D at 0x239689f0390>]"
            ]
          },
          "execution_count": 36,
          "metadata": {},
          "output_type": "execute_result"
        },
        {
          "data": {
            "image/png": "[encoded data removed]",
            "text/plain": [
              "<Figure size 640x480 with 1 Axes>"
            ]
          },
          "metadata": {},
          "output_type": "display_data"
        }
      ],
      "source": [
        "plt.plot(steps, train_loss, marker = 'o', linestyle = '-')"
      ]
    },
    {
      "cell_type": "markdown",
      "metadata": {
        "id": "8lGyZnvk25q9"
      },
      "source": [
        "### Task 5 - Deploy our model"
      ]
    },
    {
      "cell_type": "markdown",
      "metadata": {
        "id": "EYljL-wH42ce"
      },
      "source": [
        "Let's take a look at `retrieved_job` again"
      ]
    },
    {
      "cell_type": "code",
      "execution_count": 38,
      "metadata": {
        "id": "q4ChDCWo3H85"
      },
      "outputs": [
        {
          "name": "stdout",
          "output_type": "stream",
          "text": [
            "ft:gpt-3.5-turbo-0125:personal::9Fpki9vB\n"
          ]
        }
      ],
      "source": [
        "myLLM = retrieved_job.fine_tuned_model\n",
        "print(myLLM)"
      ]
    },
    {
      "cell_type": "markdown",
      "metadata": {
        "id": "nLLfuwC4-h9K"
      },
      "source": [
        "Defining a method to extract information from a given user complaint using a specific LLM and return the results."
      ]
    },
    {
      "cell_type": "code",
      "execution_count": 39,
      "metadata": {
        "id": "P3_99_Hf5CV1"
      },
      "outputs": [],
      "source": [
        "def extract_details(user_complaint, model_name):\n",
        "    \"\"\"\n",
        "    This function extracts information from a given user complaint using a specific LLM (Large Language Model).\n",
        "\n",
        "    Parameters:\n",
        "    user_complaint (str): The text of the user's complaint.\n",
        "    model_name (str): The name of the specific LLM model to use for extraction.\n",
        "    \"\"\"\n",
        "\n",
        "    system_content = \"\"\"\n",
        "        Given a customer complaint text, extract and return the following information in JSON (dict) format:\n",
        "        - Topic\n",
        "        - Problem\n",
        "        - Customer_Dissatisfaction_Index\n",
        "    \"\"\"\n",
        "\n",
        "    # Generate a response using the specified model and the user's complaint\n",
        "    response = client.chat.completions.create(\n",
        "        model = model_name,\n",
        "        messages=[\n",
        "            {\"role\": \"system\", \"content\": system_content},  # System content explaining the expected output\n",
        "            {\"role\": \"user\", \"content\": user_complaint}  # User's complaint passed as content\n",
        "        ]\n",
        "    )\n",
        "\n",
        "    # Return the content of the generated response\n",
        "    return response.choices[0].message.content\n"
      ]
    },
    {
      "cell_type": "markdown",
      "metadata": {
        "id": "zE_O2zAwplof"
      },
      "source": [
        "Let's use our fine-tuned model to extract the details for the following user complaint:\n",
        "\n",
        "*TV channels keep disappearing from my subscription! What's going on? Extremely annoyed with this service!*"
      ]
    },
    {
      "cell_type": "code",
      "execution_count": 45,
      "metadata": {
        "id": "vD1dEjnzWTuw"
      },
      "outputs": [
        {
          "data": {
            "text/plain": [
              "'{\"Topic\": \"TV\", \"Problem\": \"Channels disappearing\", \"Customer_Dissatisfaction_Index\": 90}'"
            ]
          },
          "execution_count": 45,
          "metadata": {},
          "output_type": "execute_result"
        }
      ],
      "source": [
        "compleint = \"TV channels keep disappearing from my subscription! What's going on? Extremely annoyed with this service!\"\n",
        "extract_details(compleint, myLLM)"
      ]
    },
    {
      "cell_type": "markdown",
      "metadata": {
        "id": "LJNgLZoS6-gw"
      },
      "source": [
        "Let's test our `GPT-4` model with the same user complaint"
      ]
    },
    {
      "cell_type": "code",
      "execution_count": 46,
      "metadata": {
        "id": "G2XBuw0N47AC"
      },
      "outputs": [
        {
          "data": {
            "text/plain": [
              "'{\\n  \"Topic\": \"TV Subscription\",\\n  \"Problem\": \"Channels disappearing from subscription\",\\n  \"Customer_Dissatisfaction_Index\": \"High\"\\n}'"
            ]
          },
          "execution_count": 46,
          "metadata": {},
          "output_type": "execute_result"
        }
      ],
      "source": [
        "extract_details(compleint, 'gpt-4')"
      ]
    },
    {
      "cell_type": "markdown",
      "metadata": {
        "id": "J3xZBAUitpVq"
      },
      "source": [
        "Let's try for the following complaint:\n",
        "\n",
        "*Line is down! It is really annoying!*"
      ]
    },
    {
      "cell_type": "code",
      "execution_count": 47,
      "metadata": {
        "id": "I3O6HzK_ttZ7"
      },
      "outputs": [
        {
          "data": {
            "text/plain": [
              "'{\"Topic\": \"Internet\", \"Problem\": \"Line down\", \"Customer_Dissatisfaction_Index\": 100}'"
            ]
          },
          "execution_count": 47,
          "metadata": {},
          "output_type": "execute_result"
        }
      ],
      "source": [
        "compleint1 = \"Line is down! It is really annoying!\"\n",
        "extract_details(compleint1, myLLM)"
      ]
    },
    {
      "cell_type": "markdown",
      "metadata": {
        "id": "W4zeLRZfuNmS"
      },
      "source": [
        "Now let's compare the results from GPT-4"
      ]
    },
    {
      "cell_type": "code",
      "execution_count": 48,
      "metadata": {
        "id": "6ubUkjXXuQ8X"
      },
      "outputs": [
        {
          "data": {
            "text/plain": [
              "'{\\n  \"Topic\": \"Service disruption\",\\n  \"Problem\": \"Line being down\",\\n  \"Customer_Dissatisfaction_Index\": \"High\"\\n}'"
            ]
          },
          "execution_count": 48,
          "metadata": {},
          "output_type": "execute_result"
        }
      ],
      "source": [
        "extract_details(compleint1, 'gpt-4')"
      ]
    },
    {
      "cell_type": "markdown",
      "metadata": {
        "id": "YvqSymjWueXu"
      },
      "source": [
        "We can see that our model, which is trained on our dataset, provides better answers compared to GPT-4. Our model is fine-tuned based on our data and is familiar with the different edge cases and the context of our dataset."
      ]
    },
    {
      "cell_type": "code",
      "execution_count": 52,
      "metadata": {
        "id": "wVQQfAAXy-v8"
      },
      "outputs": [
        {
          "data": {
            "text/plain": [
              "'{\"Topic\": \"Billing\", \"Problem\": \"General\", \"Customer_Dissatisfaction_Index\": 10}'"
            ]
          },
          "execution_count": 52,
          "metadata": {},
          "output_type": "execute_result"
        }
      ],
      "source": [
        "customer_complaint = \"I am very Angry! I want my money back!\"\n",
        "extract_details(customer_complaint, myLLM)"
      ]
    }
  ],
  "metadata": {
    "colab": {
      "collapsed_sections": [
        "1Rp80dTGpsDD",
        "0r2XnfwnqTCK",
        "Jo9HFdW0jput",
        "4XB-sFc3kO4A",
        "8lGyZnvk25q9"
      ],
      "provenance": []
    },
    "kernelspec": {
      "display_name": "Python 3",
      "name": "python3"
    },
    "language_info": {
      "codemirror_mode": {
        "name": "ipython",
        "version": 3
      },
      "file_extension": ".py",
      "mimetype": "text/x-python",
      "name": "python",
      "nbconvert_exporter": "python",
      "pygments_lexer": "ipython3",
      "version": "3.10.14"
    }
  },
  "nbformat": 4,
  "nbformat_minor": 0
}
