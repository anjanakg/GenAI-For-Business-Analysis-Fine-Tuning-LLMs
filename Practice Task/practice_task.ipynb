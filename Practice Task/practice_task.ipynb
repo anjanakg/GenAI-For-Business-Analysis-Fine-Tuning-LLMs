{
  "cells": [
    {
      "cell_type": "markdown",
      "metadata": {
        "id": "wzwHb4DJch7r"
      },
      "source": [
        "# practice task \n",
        "\n",
        "You have been hired as an AI Engineer by a communication company called TechCom Solutions. They want to fine-tune a language model (LLM) to be used as their website's customer support chatbot. The chatbot is going to be trained to answer customer questions in a specific format. They have provided you with a dataset containing the possible questions from customers and the desired format and tone of the chatbot answers to those questions.\n",
        "\n",
        "Your task is to prepare the training data for the fine-tuning process. Each record in the training dataset should be a JSON object that is supported by OpenAI and should contain the following system prompt:\n",
        "\n",
        "`You are a customer support AI assistant, answering the customer's question in a friendly way.`\n",
        "\n",
        "Follow the instructions in this notebook to complete the practice task."
      ]
    },
    {
      "cell_type": "code",
      "execution_count": 1,
      "metadata": {
        "id": "vdRlw_zrcYbg"
      },
      "outputs": [],
      "source": [
        "# importing the needed modules\n",
        "\n",
        "import pandas as pd\n",
        "import json"
      ]
    },
    {
      "cell_type": "markdown",
      "metadata": {
        "id": "inG10_a8fZPX"
      },
      "source": [
        "Loading Q&A Dataset"
      ]
    },
    {
      "cell_type": "code",
      "execution_count": 2,
      "metadata": {
        "colab": {
          "base_uri": "https://localhost:8080/",
          "height": 206
        },
        "id": "_w16TID6fWhY",
        "outputId": "7aae825d-0e28-483e-826f-eacef240cf7e"
      },
      "outputs": [
        {
          "data": {
            "text/html": [
              "<div>\n",
              "<style scoped>\n",
              "    .dataframe tbody tr th:only-of-type {\n",
              "        vertical-align: middle;\n",
              "    }\n",
              "\n",
              "    .dataframe tbody tr th {\n",
              "        vertical-align: top;\n",
              "    }\n",
              "\n",
              "    .dataframe thead th {\n",
              "        text-align: right;\n",
              "    }\n",
              "</style>\n",
              "<table border=\"1\" class=\"dataframe\">\n",
              "  <thead>\n",
              "    <tr style=\"text-align: right;\">\n",
              "      <th></th>\n",
              "      <th>Questions</th>\n",
              "      <th>Answers</th>\n",
              "    </tr>\n",
              "  </thead>\n",
              "  <tbody>\n",
              "    <tr>\n",
              "      <th>0</th>\n",
              "      <td>What services does your company offer?</td>\n",
              "      <td>Oh, GenNexConnect, the pinnacle of modern comm...</td>\n",
              "    </tr>\n",
              "    <tr>\n",
              "      <th>1</th>\n",
              "      <td>What internet speeds are available?</td>\n",
              "      <td>Internet speeds that range from \"barely accept...</td>\n",
              "    </tr>\n",
              "    <tr>\n",
              "      <th>2</th>\n",
              "      <td>Can I bundle services for a discount?</td>\n",
              "      <td>Bundle services and save up to 20%! Because wh...</td>\n",
              "    </tr>\n",
              "    <tr>\n",
              "      <th>3</th>\n",
              "      <td>How reliable is your internet service?</td>\n",
              "      <td>Our internet service boasts 99.9% reliability,...</td>\n",
              "    </tr>\n",
              "    <tr>\n",
              "      <th>4</th>\n",
              "      <td>Do you offer unlimited data plans?</td>\n",
              "      <td>Unlimited data plans! Because we firmly believ...</td>\n",
              "    </tr>\n",
              "  </tbody>\n",
              "</table>\n",
              "</div>"
            ],
            "text/plain": [
              "                                Questions  \\\n",
              "0  What services does your company offer?   \n",
              "1     What internet speeds are available?   \n",
              "2   Can I bundle services for a discount?   \n",
              "3  How reliable is your internet service?   \n",
              "4      Do you offer unlimited data plans?   \n",
              "\n",
              "                                             Answers  \n",
              "0  Oh, GenNexConnect, the pinnacle of modern comm...  \n",
              "1  Internet speeds that range from \"barely accept...  \n",
              "2  Bundle services and save up to 20%! Because wh...  \n",
              "3  Our internet service boasts 99.9% reliability,...  \n",
              "4  Unlimited data plans! Because we firmly believ...  "
            ]
          },
          "execution_count": 2,
          "metadata": {},
          "output_type": "execute_result"
        }
      ],
      "source": [
        "data = pd.read_csv(\"Q&A Data.csv\")\n",
        "data.head()"
      ]
    },
    {
      "cell_type": "markdown",
      "metadata": {
        "id": "lonv3bPkfvc7"
      },
      "source": [
        "write a python method called `convert_to_training_dataset`that gets a dataframe and convert each record to a dictionary (json object) with the proper format.\n",
        "\n",
        "`hint: Do not forget to add the system_prompt!`"
      ]
    },
    {
      "cell_type": "code",
      "execution_count": 3,
      "metadata": {
        "id": "3ag28by_frs8"
      },
      "outputs": [],
      "source": [
        "def convert_to_training_dataset(row):\n",
        "\n",
        "  system_content = \"\"\"\n",
        "      Act like a helpful customer support assistant and answer the customer's questions.\n",
        "  \"\"\"\n",
        "\n",
        "  formatted_data = {\n",
        "        \"messages\": [\n",
        "            {\"role\": \"system\", \"content\": system_content},\n",
        "            {\"role\": \"user\", \"content\": row.Questions},\n",
        "            {\"role\": \"assistant\", \"content\": row.Answers}\n",
        "        ]\n",
        "      }\n",
        "\n",
        "  with open(\"training_data.json\", \"a\") as json_file:\n",
        "        json.dump(formatted_data, json_file)\n",
        "        json_file.write(\"\\n\")"
      ]
    },
    {
      "cell_type": "markdown",
      "metadata": {
        "id": "5UileM-5gOY0"
      },
      "source": [
        "use the `convert_to_training_dataset` method and store the json objects in a json file called `training_data.json`"
      ]
    },
    {
      "cell_type": "code",
      "execution_count": 4,
      "metadata": {
        "id": "rAgmV2YWgfa1"
      },
      "outputs": [
        {
          "name": "stdout",
          "output_type": "stream",
          "text": [
            "Training data is ready\n"
          ]
        }
      ],
      "source": [
        "# write your code here\n",
        "for index, row in data.iterrows():\n",
        "    convert_to_training_dataset(row)\n",
        "\n",
        "print(\"Training data is ready\")"
      ]
    }
  ],
  "metadata": {
    "colab": {
      "provenance": []
    },
    "kernelspec": {
      "display_name": "Python 3",
      "name": "python3"
    },
    "language_info": {
      "codemirror_mode": {
        "name": "ipython",
        "version": 3
      },
      "file_extension": ".py",
      "mimetype": "text/x-python",
      "name": "python",
      "nbconvert_exporter": "python",
      "pygments_lexer": "ipython3",
      "version": "3.10.14"
    }
  },
  "nbformat": 4,
  "nbformat_minor": 0
}
