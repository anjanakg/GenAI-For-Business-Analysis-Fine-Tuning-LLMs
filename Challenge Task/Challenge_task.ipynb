{
  "cells": [
    {
      "cell_type": "markdown",
      "metadata": {
        "id": "EeFtHZ2xlgSy"
      },
      "source": [
        "Installing the needed Modules"
      ]
    },
    {
      "cell_type": "code",
      "execution_count": null,
      "metadata": {
        "colab": {
          "base_uri": "https://localhost:8080/"
        },
        "id": "lx4wV2MIUJ8A",
        "outputId": "3078181d-2661-4545-d05f-8dc05a01e7bd"
      },
      "outputs": [],
      "source": [
        "# !pip install openai==1.7.2 python-dotenv"
      ]
    },
    {
      "cell_type": "markdown",
      "metadata": {
        "id": "K3My9tbf7L0i"
      },
      "source": [
        "Run the code block below to import the necessary modules and set up the OpenAI API. <br>\n",
        "`Hint:` Do not forget to upload the `.env` file"
      ]
    },
    {
      "cell_type": "code",
      "execution_count": 1,
      "metadata": {
        "id": "NEuarNozhr1E"
      },
      "outputs": [],
      "source": [
        "import os\n",
        "from openai import OpenAI\n",
        "from dotenv import load_dotenv\n",
        "import matplotlib.pyplot as plt\n",
        "\n",
        "load_dotenv(dotenv_path='apikey.env.txt')\n",
        "\n",
        "APIKEY = os.getenv(\"APIKEY\")\n",
        "ORGID = os.getenv(\"ORGID\")\n",
        "\n",
        "client = OpenAI(\n",
        "  organization= ORGID,\n",
        "  api_key=APIKEY\n",
        ")"
      ]
    },
    {
      "cell_type": "markdown",
      "metadata": {
        "id": "cm6SF029-sWS"
      },
      "source": [
        "Run the code block below to retrieve all the fine-tuned models that you have trained on the OpenAI servers. And select the latest fine-tuning job from the list."
      ]
    },
    {
      "cell_type": "code",
      "execution_count": 2,
      "metadata": {
        "colab": {
          "base_uri": "https://localhost:8080/"
        },
        "id": "VVM4XV88_JIj",
        "outputId": "b8ff3965-e4ec-4f8d-ba68-ff96e25431f6"
      },
      "outputs": [
        {
          "data": {
            "text/plain": [
              "FineTuningJob(id='ftjob-MBNTISoTsCHB9Lws77tzuiF3', created_at=1713540078, error=Error(code=None, message=None, param=None), fine_tuned_model='ft:gpt-3.5-turbo-0125:personal::9FkPqZ71', finished_at=1713540369, hyperparameters=Hyperparameters(n_epochs=1, batch_size=1, learning_rate_multiplier=2), model='gpt-3.5-turbo-0125', object='fine_tuning.job', organization_id='org-BUkbPcfBtiSt1ZHYTgb703OH', result_files=['file-vylqyZxIjivdfSxwb4RA0pLN'], status='succeeded', trained_tokens=9052, training_file='file-b3d6A2iQdy4JclyFi1lWFRyh', validation_file=None, user_provided_suffix=None, seed=82668093, estimated_finish=None, integrations=[])"
            ]
          },
          "execution_count": 2,
          "metadata": {},
          "output_type": "execute_result"
        }
      ],
      "source": [
        "# Retrieving the list of fine-tuning jobs from the OpenAI client\n",
        "fine_tuning_jobs = list(client.fine_tuning.jobs.list())\n",
        "\n",
        "# Selecting the latest fine-tuning job from the list\n",
        "latest_job = fine_tuning_jobs[-1]\n",
        "latest_job"
      ]
    },
    {
      "cell_type": "markdown",
      "metadata": {
        "id": "CWsNHDeKAZRY"
      },
      "source": [
        "Now retrieve all the event messages from the retrieved job and put it inside a variable called `events`"
      ]
    },
    {
      "cell_type": "code",
      "execution_count": 3,
      "metadata": {
        "colab": {
          "base_uri": "https://localhost:8080/"
        },
        "id": "YLXPR41g_WyC",
        "outputId": "b5bb6b3f-247a-403c-ad01-fcd8ecd67c9d"
      },
      "outputs": [
        {
          "name": "stdout",
          "output_type": "stream",
          "text": [
            "[FineTuningJobEvent(id='ftevent-a0yOpf4CmMdvolJHHgpVnVz6', created_at=1713540374, level='info', message='The job has successfully completed', object='fine_tuning.job.event', data={}, type='message'), FineTuningJobEvent(id='ftevent-RGvQVdIr8r7cePdlCMyetwwt', created_at=1713540371, level='info', message='New fine-tuned model created: ft:gpt-3.5-turbo-0125:personal::9FkPqZ71', object='fine_tuning.job.event', data={}, type='message'), FineTuningJobEvent(id='ftevent-J9AD3zAlBJOJk99mqrbx23vB', created_at=1713540366, level='info', message='Step 67/67: training loss=0.08', object='fine_tuning.job.event', data={'step': 67, 'train_loss': 0.07897955924272537, 'total_steps': 67, 'train_mean_token_accuracy': 0.9629629850387573}, type='metrics'), FineTuningJobEvent(id='ftevent-nnMPpNH8yVMTlPj5DUXPnrjO', created_at=1713540363, level='info', message='Step 66/67: training loss=0.15', object='fine_tuning.job.event', data={'step': 66, 'train_loss': 0.1459551304578781, 'total_steps': 67, 'train_mean_token_accuracy': 0.9200000166893005}, type='metrics'), FineTuningJobEvent(id='ftevent-cE9m97cPqtEzqTlGOlF9a9oz', created_at=1713540360, level='info', message='Step 65/67: training loss=0.77', object='fine_tuning.job.event', data={'step': 65, 'train_loss': 0.7666848301887512, 'total_steps': 67, 'train_mean_token_accuracy': 0.8518518805503845}, type='metrics'), FineTuningJobEvent(id='ftevent-zssEqFtxbwkx7qnPj4B4Hrgr', created_at=1713540358, level='info', message='Step 64/67: training loss=0.78', object='fine_tuning.job.event', data={'step': 64, 'train_loss': 0.7754954695701599, 'total_steps': 67, 'train_mean_token_accuracy': 0.8518518805503845}, type='metrics'), FineTuningJobEvent(id='ftevent-StrZXWYoZ9I4YyGvu77IMq0n', created_at=1713540358, level='info', message='Step 63/67: training loss=0.03', object='fine_tuning.job.event', data={'step': 63, 'train_loss': 0.0348968505859375, 'total_steps': 67, 'train_mean_token_accuracy': 1.0}, type='metrics'), FineTuningJobEvent(id='ftevent-Nege1g7dHlHRLJ9PClePXQiZ', created_at=1713540356, level='info', message='Step 62/67: training loss=0.80', object='fine_tuning.job.event', data={'step': 62, 'train_loss': 0.7955945134162903, 'total_steps': 67, 'train_mean_token_accuracy': 0.8518518805503845}, type='metrics'), FineTuningJobEvent(id='ftevent-GL1xiHiQwknUAlUqT7EuZVPQ', created_at=1713540353, level='info', message='Step 61/67: training loss=0.11', object='fine_tuning.job.event', data={'step': 61, 'train_loss': 0.10817562788724899, 'total_steps': 67, 'train_mean_token_accuracy': 0.9629629850387573}, type='metrics'), FineTuningJobEvent(id='ftevent-JgIWKe28VfNBylZJrary2hK2', created_at=1713540351, level='info', message='Step 60/67: training loss=0.25', object='fine_tuning.job.event', data={'step': 60, 'train_loss': 0.2489851415157318, 'total_steps': 67, 'train_mean_token_accuracy': 0.9599999785423279}, type='metrics'), FineTuningJobEvent(id='ftevent-TjPvO68FYqHmwYV6paEp2pk8', created_at=1713540348, level='info', message='Step 59/67: training loss=0.20', object='fine_tuning.job.event', data={'step': 59, 'train_loss': 0.19943618774414062, 'total_steps': 67, 'train_mean_token_accuracy': 0.8888888955116272}, type='metrics'), FineTuningJobEvent(id='ftevent-yPOq0HOyzgLZJIOGvWVJvy8D', created_at=1713540346, level='info', message='Step 58/67: training loss=0.85', object='fine_tuning.job.event', data={'step': 58, 'train_loss': 0.8514026999473572, 'total_steps': 67, 'train_mean_token_accuracy': 0.8518518805503845}, type='metrics'), FineTuningJobEvent(id='ftevent-WkEE0oJvmBKVLlVcPX4eBKbV', created_at=1713540344, level='info', message='Step 57/67: training loss=0.09', object='fine_tuning.job.event', data={'step': 57, 'train_loss': 0.09325804561376572, 'total_steps': 67, 'train_mean_token_accuracy': 0.9629629850387573}, type='metrics'), FineTuningJobEvent(id='ftevent-100m15U7sUaNs9ES3Jtjkxga', created_at=1713540341, level='info', message='Step 56/67: training loss=0.60', object='fine_tuning.job.event', data={'step': 56, 'train_loss': 0.599010705947876, 'total_steps': 67, 'train_mean_token_accuracy': 0.9200000166893005}, type='metrics'), FineTuningJobEvent(id='ftevent-mL8FFqTbHYemvtsj48nHjLk8', created_at=1713540339, level='info', message='Step 55/67: training loss=0.95', object='fine_tuning.job.event', data={'step': 55, 'train_loss': 0.9489033222198486, 'total_steps': 67, 'train_mean_token_accuracy': 0.8518518805503845}, type='metrics'), FineTuningJobEvent(id='ftevent-WZAgHtQsEnUhPFsSI08LqZ0c', created_at=1713540339, level='info', message='Step 54/67: training loss=0.15', object='fine_tuning.job.event', data={'step': 54, 'train_loss': 0.15235908329486847, 'total_steps': 67, 'train_mean_token_accuracy': 0.9629629850387573}, type='metrics'), FineTuningJobEvent(id='ftevent-mAykjGL9XadQqs5AVIbNG9TZ', created_at=1713540336, level='info', message='Step 53/67: training loss=0.13', object='fine_tuning.job.event', data={'step': 53, 'train_loss': 0.1310267299413681, 'total_steps': 67, 'train_mean_token_accuracy': 0.9629629850387573}, type='metrics'), FineTuningJobEvent(id='ftevent-IQMYJg73hVXMkpYr3t1wXXVV', created_at=1713540334, level='info', message='Step 52/67: training loss=0.27', object='fine_tuning.job.event', data={'step': 52, 'train_loss': 0.26895883679389954, 'total_steps': 67, 'train_mean_token_accuracy': 0.9259259104728699}, type='metrics'), FineTuningJobEvent(id='ftevent-QEUsyHLMEADodPgmrLvabeFm', created_at=1713540332, level='info', message='Step 51/67: training loss=0.11', object='fine_tuning.job.event', data={'step': 51, 'train_loss': 0.11370605230331421, 'total_steps': 67, 'train_mean_token_accuracy': 0.9599999785423279}, type='metrics'), FineTuningJobEvent(id='ftevent-mMJwdSiQtxueEfiHmB1Xqr2O', created_at=1713540329, level='info', message='Step 50/67: training loss=0.10', object='fine_tuning.job.event', data={'step': 50, 'train_loss': 0.09828867018222809, 'total_steps': 67, 'train_mean_token_accuracy': 0.9642857313156128}, type='metrics'), FineTuningJobEvent(id='ftevent-kWHtFAr7VMh61R7nWs1o9Qan', created_at=1713540327, level='info', message='Step 49/67: training loss=0.32', object='fine_tuning.job.event', data={'step': 49, 'train_loss': 0.3194325268268585, 'total_steps': 67, 'train_mean_token_accuracy': 0.9200000166893005}, type='metrics'), FineTuningJobEvent(id='ftevent-NL3i5vssgZNatgmxfBISmUL4', created_at=1713540325, level='info', message='Step 48/67: training loss=0.20', object='fine_tuning.job.event', data={'step': 48, 'train_loss': 0.1991778165102005, 'total_steps': 67, 'train_mean_token_accuracy': 0.9230769276618958}, type='metrics'), FineTuningJobEvent(id='ftevent-C4hjrNRI0JavFmqB1foCyz63', created_at=1713540322, level='info', message='Step 47/67: training loss=0.37', object='fine_tuning.job.event', data={'step': 47, 'train_loss': 0.36939018964767456, 'total_steps': 67, 'train_mean_token_accuracy': 0.8846153616905212}, type='metrics'), FineTuningJobEvent(id='ftevent-PEHitTmgsH5owg1Gbyzv3oTg', created_at=1713540322, level='info', message='Step 46/67: training loss=0.10', object='fine_tuning.job.event', data={'step': 46, 'train_loss': 0.10146698355674744, 'total_steps': 67, 'train_mean_token_accuracy': 0.9599999785423279}, type='metrics'), FineTuningJobEvent(id='ftevent-0tPkLkMRZCUOF1QAlpHubNot', created_at=1713540319, level='info', message='Step 45/67: training loss=0.17', object='fine_tuning.job.event', data={'step': 45, 'train_loss': 0.17326663434505463, 'total_steps': 67, 'train_mean_token_accuracy': 0.8846153616905212}, type='metrics'), FineTuningJobEvent(id='ftevent-8diVcGLDgb9eQyAL37AAldMZ', created_at=1713540317, level='info', message='Step 44/67: training loss=0.22', object='fine_tuning.job.event', data={'step': 44, 'train_loss': 0.2186238169670105, 'total_steps': 67, 'train_mean_token_accuracy': 0.9200000166893005}, type='metrics'), FineTuningJobEvent(id='ftevent-4iYxKfhPf98jBU1b7CnYcX2i', created_at=1713540315, level='info', message='Step 43/67: training loss=1.13', object='fine_tuning.job.event', data={'step': 43, 'train_loss': 1.1345109939575195, 'total_steps': 67, 'train_mean_token_accuracy': 0.8148148059844971}, type='metrics'), FineTuningJobEvent(id='ftevent-pyDzx0xfJZwiEVq4fYzvD16L', created_at=1713540312, level='info', message='Step 42/67: training loss=0.12', object='fine_tuning.job.event', data={'step': 42, 'train_loss': 0.1220296248793602, 'total_steps': 67, 'train_mean_token_accuracy': 0.9259259104728699}, type='metrics'), FineTuningJobEvent(id='ftevent-46XncwX5DiqE2M3l3URC6lGc', created_at=1713540310, level='info', message='Step 41/67: training loss=0.15', object='fine_tuning.job.event', data={'step': 41, 'train_loss': 0.14530035853385925, 'total_steps': 67, 'train_mean_token_accuracy': 0.9230769276618958}, type='metrics'), FineTuningJobEvent(id='ftevent-RX6l4wSVOclXadnNx9BhQ77k', created_at=1713540308, level='info', message='Step 40/67: training loss=0.05', object='fine_tuning.job.event', data={'step': 40, 'train_loss': 0.04769596830010414, 'total_steps': 67, 'train_mean_token_accuracy': 1.0}, type='metrics'), FineTuningJobEvent(id='ftevent-a87SpSZhtFV1h8DSBUQwrMvf', created_at=1713540305, level='info', message='Step 39/67: training loss=0.04', object='fine_tuning.job.event', data={'step': 39, 'train_loss': 0.03612261638045311, 'total_steps': 67, 'train_mean_token_accuracy': 1.0}, type='metrics'), FineTuningJobEvent(id='ftevent-JnWeYzXRWz0LAINUtRzTa4Wj', created_at=1713540303, level='info', message='Step 38/67: training loss=0.34', object='fine_tuning.job.event', data={'step': 38, 'train_loss': 0.33872413635253906, 'total_steps': 67, 'train_mean_token_accuracy': 0.8888888955116272}, type='metrics'), FineTuningJobEvent(id='ftevent-a4cao6uCRx3BRi6AU8RoFLmt', created_at=1713540303, level='info', message='Step 37/67: training loss=0.15', object='fine_tuning.job.event', data={'step': 37, 'train_loss': 0.1494075357913971, 'total_steps': 67, 'train_mean_token_accuracy': 0.9230769276618958}, type='metrics'), FineTuningJobEvent(id='ftevent-AT5FjlyLxgJm28U3iTrtHStX', created_at=1713540301, level='info', message='Step 36/67: training loss=0.04', object='fine_tuning.job.event', data={'step': 36, 'train_loss': 0.04154672473669052, 'total_steps': 67, 'train_mean_token_accuracy': 1.0}, type='metrics'), FineTuningJobEvent(id='ftevent-1xhRJ65EOOEjloZI4qFdTn4d', created_at=1713540298, level='info', message='Step 35/67: training loss=0.16', object='fine_tuning.job.event', data={'step': 35, 'train_loss': 0.16377779841423035, 'total_steps': 67, 'train_mean_token_accuracy': 0.9230769276618958}, type='metrics'), FineTuningJobEvent(id='ftevent-TY0b0gTdsEyK0aLPvD3fXDjo', created_at=1713540296, level='info', message='Step 34/67: training loss=0.13', object='fine_tuning.job.event', data={'step': 34, 'train_loss': 0.13189254701137543, 'total_steps': 67, 'train_mean_token_accuracy': 0.9642857313156128}, type='metrics'), FineTuningJobEvent(id='ftevent-kx2AMXC2nrji5WYaG0s7MAih', created_at=1713540294, level='info', message='Step 33/67: training loss=0.04', object='fine_tuning.job.event', data={'step': 33, 'train_loss': 0.04183380305767059, 'total_steps': 67, 'train_mean_token_accuracy': 1.0}, type='metrics'), FineTuningJobEvent(id='ftevent-VuEk8Vu8EKSFXSufUMDbdjZj', created_at=1713540291, level='info', message='Step 32/67: training loss=0.18', object='fine_tuning.job.event', data={'step': 32, 'train_loss': 0.18174107372760773, 'total_steps': 67, 'train_mean_token_accuracy': 0.8888888955116272}, type='metrics'), FineTuningJobEvent(id='ftevent-ehpfePLs45iQDm405McLCQcZ', created_at=1713540288, level='info', message='Step 31/67: training loss=0.11', object='fine_tuning.job.event', data={'step': 31, 'train_loss': 0.11139926314353943, 'total_steps': 67, 'train_mean_token_accuracy': 0.9629629850387573}, type='metrics'), FineTuningJobEvent(id='ftevent-oYnD9k0I1l6sh3ags830KKEF', created_at=1713540286, level='info', message='Step 30/67: training loss=0.29', object='fine_tuning.job.event', data={'step': 30, 'train_loss': 0.29086410999298096, 'total_steps': 67, 'train_mean_token_accuracy': 0.8888888955116272}, type='metrics'), FineTuningJobEvent(id='ftevent-VGbcv0VYlzrs4Lh9Hmbnq76h', created_at=1713540284, level='info', message='Step 29/67: training loss=0.24', object='fine_tuning.job.event', data={'step': 29, 'train_loss': 0.23610343039035797, 'total_steps': 67, 'train_mean_token_accuracy': 0.9230769276618958}, type='metrics'), FineTuningJobEvent(id='ftevent-9FXZAVSNij0v6HcCOvbopolK', created_at=1713540281, level='info', message='Step 28/67: training loss=1.31', object='fine_tuning.job.event', data={'step': 28, 'train_loss': 1.3144681453704834, 'total_steps': 67, 'train_mean_token_accuracy': 0.8148148059844971}, type='metrics'), FineTuningJobEvent(id='ftevent-dAspaEdD7G8pryR5jF4BT4s9', created_at=1713540281, level='info', message='Step 27/67: training loss=1.26', object='fine_tuning.job.event', data={'step': 27, 'train_loss': 1.2609015703201294, 'total_steps': 67, 'train_mean_token_accuracy': 0.8518518805503845}, type='metrics'), FineTuningJobEvent(id='ftevent-V2xDkYm9atf8w34VPMudkDhn', created_at=1713540279, level='info', message='Step 26/67: training loss=0.12', object='fine_tuning.job.event', data={'step': 26, 'train_loss': 0.11571968346834183, 'total_steps': 67, 'train_mean_token_accuracy': 0.9200000166893005}, type='metrics'), FineTuningJobEvent(id='ftevent-xYAOMiu5FyinsFXDvb0W0B3z', created_at=1713540277, level='info', message='Step 25/67: training loss=0.30', object='fine_tuning.job.event', data={'step': 25, 'train_loss': 0.2963709235191345, 'total_steps': 67, 'train_mean_token_accuracy': 0.9200000166893005}, type='metrics'), FineTuningJobEvent(id='ftevent-soF0j88Tu2ovWVNcnh55eaG3', created_at=1713540274, level='info', message='Step 24/67: training loss=0.14', object='fine_tuning.job.event', data={'step': 24, 'train_loss': 0.14397713541984558, 'total_steps': 67, 'train_mean_token_accuracy': 0.9259259104728699}, type='metrics'), FineTuningJobEvent(id='ftevent-XYUH87xkekLD9LqzwidVVlvq', created_at=1713540272, level='info', message='Step 23/67: training loss=0.09', object='fine_tuning.job.event', data={'step': 23, 'train_loss': 0.08708755671977997, 'total_steps': 67, 'train_mean_token_accuracy': 0.9599999785423279}, type='metrics'), FineTuningJobEvent(id='ftevent-zibdoetxay1kYs6lA7o8cgxz', created_at=1713540269, level='info', message='Step 22/67: training loss=0.15', object='fine_tuning.job.event', data={'step': 22, 'train_loss': 0.15377768874168396, 'total_steps': 67, 'train_mean_token_accuracy': 0.9599999785423279}, type='metrics'), FineTuningJobEvent(id='ftevent-pFg6lhJW7djlXIsCQKNHyxwu', created_at=1713540267, level='info', message='Step 21/67: training loss=0.09', object='fine_tuning.job.event', data={'step': 21, 'train_loss': 0.09027099609375, 'total_steps': 67, 'train_mean_token_accuracy': 0.9666666388511658}, type='metrics'), FineTuningJobEvent(id='ftevent-b9qNXOlZLrNq5xjGjQ3S3ROL', created_at=1713540265, level='info', message='Step 20/67: training loss=0.13', object='fine_tuning.job.event', data={'step': 20, 'train_loss': 0.12684771418571472, 'total_steps': 67, 'train_mean_token_accuracy': 0.9230769276618958}, type='metrics'), FineTuningJobEvent(id='ftevent-OBCQHZvOolw4njW7dCvhuUAW', created_at=1713540265, level='info', message='Step 19/67: training loss=1.53', object='fine_tuning.job.event', data={'step': 19, 'train_loss': 1.5346189737319946, 'total_steps': 67, 'train_mean_token_accuracy': 0.7777777910232544}, type='metrics'), FineTuningJobEvent(id='ftevent-WJGDSZjYWlfZTedhpctYXq22', created_at=1713540262, level='info', message='Step 18/67: training loss=0.15', object='fine_tuning.job.event', data={'step': 18, 'train_loss': 0.14823417365550995, 'total_steps': 67, 'train_mean_token_accuracy': 0.9599999785423279}, type='metrics'), FineTuningJobEvent(id='ftevent-iSLlR7b2PL3chrCXFa92Z4Ta', created_at=1713540260, level='info', message='Step 17/67: training loss=0.65', object='fine_tuning.job.event', data={'step': 17, 'train_loss': 0.6479329466819763, 'total_steps': 67, 'train_mean_token_accuracy': 0.8846153616905212}, type='metrics'), FineTuningJobEvent(id='ftevent-esME4h6k5G1G4fRXXv6w6sGv', created_at=1713540257, level='info', message='Step 16/67: training loss=0.13', object='fine_tuning.job.event', data={'step': 16, 'train_loss': 0.12576667964458466, 'total_steps': 67, 'train_mean_token_accuracy': 0.9230769276618958}, type='metrics'), FineTuningJobEvent(id='ftevent-1Ow1yDbZgpWvlrioFVF1UVtD', created_at=1713540255, level='info', message='Step 15/67: training loss=0.14', object='fine_tuning.job.event', data={'step': 15, 'train_loss': 0.13725055754184723, 'total_steps': 67, 'train_mean_token_accuracy': 0.9642857313156128}, type='metrics'), FineTuningJobEvent(id='ftevent-qAwx2R3i8VELsDNXfdicstie', created_at=1713540253, level='info', message='Step 14/67: training loss=0.20', object='fine_tuning.job.event', data={'step': 14, 'train_loss': 0.19887301325798035, 'total_steps': 67, 'train_mean_token_accuracy': 0.8846153616905212}, type='metrics'), FineTuningJobEvent(id='ftevent-Q2enY8gl9FBWelRWCBRxaAHu', created_at=1713540253, level='info', message='Step 13/67: training loss=0.11', object='fine_tuning.job.event', data={'step': 13, 'train_loss': 0.10575470328330994, 'total_steps': 67, 'train_mean_token_accuracy': 0.9615384340286255}, type='metrics'), FineTuningJobEvent(id='ftevent-i0sXcO64CNpgF5xPBO03WkAG', created_at=1713540250, level='info', message='Step 12/67: training loss=0.35', object='fine_tuning.job.event', data={'step': 12, 'train_loss': 0.34997326135635376, 'total_steps': 67, 'train_mean_token_accuracy': 0.9259259104728699}, type='metrics'), FineTuningJobEvent(id='ftevent-odfJm7KgVMli90HJZEK0NDEq', created_at=1713540248, level='info', message='Step 11/67: training loss=1.08', object='fine_tuning.job.event', data={'step': 11, 'train_loss': 1.077559471130371, 'total_steps': 67, 'train_mean_token_accuracy': 0.8399999737739563}, type='metrics'), FineTuningJobEvent(id='ftevent-F86co6ISkigke37VdaCb6SKX', created_at=1713540246, level='info', message='Step 10/67: training loss=0.26', object='fine_tuning.job.event', data={'step': 10, 'train_loss': 0.25503358244895935, 'total_steps': 67, 'train_mean_token_accuracy': 0.9166666865348816}, type='metrics'), FineTuningJobEvent(id='ftevent-UEd6SFcHUBiaAYNhJJuGUcr9', created_at=1713540243, level='info', message='Step 9/67: training loss=0.27', object='fine_tuning.job.event', data={'step': 9, 'train_loss': 0.2738093435764313, 'total_steps': 67, 'train_mean_token_accuracy': 0.9599999785423279}, type='metrics'), FineTuningJobEvent(id='ftevent-o4bl4BSfRUszsx7ACsJ2tIkY', created_at=1713540241, level='info', message='Step 8/67: training loss=0.12', object='fine_tuning.job.event', data={'step': 8, 'train_loss': 0.11618797481060028, 'total_steps': 67, 'train_mean_token_accuracy': 0.9200000166893005}, type='metrics'), FineTuningJobEvent(id='ftevent-mIZln2xp9siq1rICKCxVjozV', created_at=1713540238, level='info', message='Step 7/67: training loss=0.27', object='fine_tuning.job.event', data={'step': 7, 'train_loss': 0.2660170793533325, 'total_steps': 67, 'train_mean_token_accuracy': 0.9200000166893005}, type='metrics'), FineTuningJobEvent(id='ftevent-LCgJTxlbWBbhoX15FHT5yaLe', created_at=1713540236, level='info', message='Step 6/67: training loss=0.71', object='fine_tuning.job.event', data={'step': 6, 'train_loss': 0.708994448184967, 'total_steps': 67, 'train_mean_token_accuracy': 0.8461538553237915}, type='metrics'), FineTuningJobEvent(id='ftevent-Kab7zqxN6w0gw23AidqELcOO', created_at=1713540236, level='info', message='Step 5/67: training loss=2.68', object='fine_tuning.job.event', data={'step': 5, 'train_loss': 2.6783127784729004, 'total_steps': 67, 'train_mean_token_accuracy': 0.7037037014961243}, type='metrics'), FineTuningJobEvent(id='ftevent-DiTDXgUkqd73ufHMJKEbpveL', created_at=1713540233, level='info', message='Step 4/67: training loss=1.38', object='fine_tuning.job.event', data={'step': 4, 'train_loss': 1.3827370405197144, 'total_steps': 67, 'train_mean_token_accuracy': 0.8214285969734192}, type='metrics'), FineTuningJobEvent(id='ftevent-Q5FB26a7kqXwcf450YlqSCF4', created_at=1713540231, level='info', message='Step 3/67: training loss=0.74', object='fine_tuning.job.event', data={'step': 3, 'train_loss': 0.7385479211807251, 'total_steps': 67, 'train_mean_token_accuracy': 0.9200000166893005}, type='metrics'), FineTuningJobEvent(id='ftevent-4aMI7heo2FG5ouPoNQX284ea', created_at=1713540229, level='info', message='Step 2/67: training loss=1.29', object='fine_tuning.job.event', data={'step': 2, 'train_loss': 1.2863965034484863, 'total_steps': 67, 'train_mean_token_accuracy': 0.8799999952316284}, type='metrics'), FineTuningJobEvent(id='ftevent-hqJWW1UyUHoacvvKNF1YIEzS', created_at=1713540226, level='info', message='Step 1/67: training loss=2.94', object='fine_tuning.job.event', data={'step': 1, 'train_loss': 2.937394142150879, 'total_steps': 67, 'train_mean_token_accuracy': 0.7037037014961243}, type='metrics'), FineTuningJobEvent(id='ftevent-FVzOmjCGtmQTVHcLBfgFf2w1', created_at=1713540102, level='info', message='Fine-tuning job started', object='fine_tuning.job.event', data=None, type='message'), FineTuningJobEvent(id='ftevent-YNVvxUfVhVmiteSvneJdYwP3', created_at=1713540101, level='info', message='Files validated, moving job to queued state', object='fine_tuning.job.event', data={}, type='message'), FineTuningJobEvent(id='ftevent-rEMzJhWsMHJnwj86wpzJZVOv', created_at=1713540078, level='info', message='Validating training file: file-b3d6A2iQdy4JclyFi1lWFRyh', object='fine_tuning.job.event', data={}, type='message'), FineTuningJobEvent(id='ftevent-zUoUYJegTZFA0h7R2atLtQai', created_at=1713540078, level='info', message='Created fine-tuning job: ftjob-MBNTISoTsCHB9Lws77tzuiF3', object='fine_tuning.job.event', data={}, type='message')]\n"
          ]
        }
      ],
      "source": [
        "# write your code here\n",
        "events = client.fine_tuning.jobs.list_events(fine_tuning_job_id=latest_job.id, limit =10)\n",
        "print(list(events))"
      ]
    },
    {
      "cell_type": "markdown",
      "metadata": {
        "id": "wO9ShakvBFQy"
      },
      "source": [
        "Loop through the `events` and extract the following information from each event object and store them in different lists:\n",
        "- steps\n",
        "- training_loss\n",
        "- train_mean_token_accuracy\n",
        "\n",
        "`Hint:` Each event object inside the `events` list has a property called data. You can find what you need there!"
      ]
    },
    {
      "cell_type": "code",
      "execution_count": 7,
      "metadata": {
        "id": "iax3IoVRBse1"
      },
      "outputs": [],
      "source": [
        "# Initialize empty lists to store the extracted information\n",
        "steps, training_loss, train_mean_token_accuracy = [], [], []\n",
        "\n",
        "# Loop through each event object in the events list\n",
        "# Extract and append the step, training loss, and train_mean_token_accuracy from the event object\n",
        "for event in events:\n",
        "    # write your code here\n",
        "    if event.data:\n",
        "        steps.append(event.data['total_steps'])\n",
        "        training_loss.append(event.data['train_loss'])\n",
        "        train_mean_token_accuracy.append(event.data['train_mean_token_accuracy'])\n"
      ]
    },
    {
      "cell_type": "markdown",
      "metadata": {
        "id": "SSjAAwMHG5g-"
      },
      "source": [
        "Create a line chart using Matplotlib to visualize how training loss changes over learning steps."
      ]
    },
    {
      "cell_type": "code",
      "execution_count": 8,
      "metadata": {
        "colab": {
          "base_uri": "https://localhost:8080/",
          "height": 449
        },
        "id": "v1-A6tzNBvSk",
        "outputId": "c2a16b36-93b7-4a0e-8156-e0399dbad870"
      },
      "outputs": [
        {
          "data": {
            "text/plain": [
              "[<matplotlib.lines.Line2D at 0x1926b1bef80>]"
            ]
          },
          "execution_count": 8,
          "metadata": {},
          "output_type": "execute_result"
        },
        {
          "data": {
            "image/png": "[encoded data removed]",
            "text/plain": [
              "<Figure size 640x480 with 1 Axes>"
            ]
          },
          "metadata": {},
          "output_type": "display_data"
        }
      ],
      "source": [
        "# write your code here\n",
        "plt.plot(steps, training_loss)"
      ]
    },
    {
      "cell_type": "markdown",
      "metadata": {
        "id": "r1wYKm2GHPci"
      },
      "source": [
        "Now create a line chart using Matplotlib to visualize how train_mean_token_accuracy changes over learning steps."
      ]
    },
    {
      "cell_type": "code",
      "execution_count": 9,
      "metadata": {
        "colab": {
          "base_uri": "https://localhost:8080/",
          "height": 448
        },
        "id": "wVCJfTbiHPup",
        "outputId": "b36054e2-3b85-42bb-c44c-af69bb440617"
      },
      "outputs": [
        {
          "data": {
            "text/plain": [
              "[<matplotlib.lines.Line2D at 0x1926b227610>]"
            ]
          },
          "execution_count": 9,
          "metadata": {},
          "output_type": "execute_result"
        },
        {
          "data": {
            "image/png": "[encoded data removed]",
            "text/plain": [
              "<Figure size 640x480 with 1 Axes>"
            ]
          },
          "metadata": {},
          "output_type": "display_data"
        }
      ],
      "source": [
        "# write your code here\n",
        "plt.plot(steps, train_mean_token_accuracy)"
      ]
    },
    {
      "cell_type": "markdown",
      "metadata": {
        "id": "ky9MvTJGHfDU"
      },
      "source": [
        "💡 A good model fine-tuning is indicated by a decrease in training loss over the learning steps and an increase in training mean token accuracy over the steps.\n",
        "\n",
        "Look at the charts you created to assess if your training procedure was effective."
      ]
    }
  ],
  "metadata": {
    "colab": {
      "provenance": []
    },
    "kernelspec": {
      "display_name": "Python 3",
      "name": "python3"
    },
    "language_info": {
      "codemirror_mode": {
        "name": "ipython",
        "version": 3
      },
      "file_extension": ".py",
      "mimetype": "text/x-python",
      "name": "python",
      "nbconvert_exporter": "python",
      "pygments_lexer": "ipython3",
      "version": "3.10.14"
    }
  },
  "nbformat": 4,
  "nbformat_minor": 0
}
